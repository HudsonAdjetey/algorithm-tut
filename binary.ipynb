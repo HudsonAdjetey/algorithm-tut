{
 "cells": [
  {
   "cell_type": "markdown",
   "metadata": {},
   "source": [
    "# python-binary-search"
   ]
  },
  {
   "cell_type": "markdown",
   "metadata": {},
   "source": [
    "### Question 1\n",
    "Alice has some cards with numbers written on them. She arranges the cards in decreasing order, and lays them out face down in a sequence on a table. She challenges Bob to pick out the card containing a given number by turning over as few cards as possible. Write a function to help Bob locate the card."
   ]
  },
  {
   "cell_type": "markdown",
   "metadata": {},
   "source": [
    "#### Here's a systematic strategy we'll apply for solving problems:\n",
    "1. State the problem clearly. Identify the input & output formats.\n",
    "2. Come up with some example inputs & outputs. Try to cover all edge cases.\n",
    "3. Come up with a correct solution for the problem. State it in plain English.\n",
    "4. Implement the solution and test it using example inputs. Fix bugs, if any.\n",
    "5. Analyze the algorithm's complexity and identify inefficiencies, if any.\n",
    "6. Apply the right technique to overcome the inefficiency. Repeat steps 3 to 6.\n",
    "\n",
    "### Our function should be able to handle any set of valid inputs we pass into it. Here's a list of some possible variations we might encounter:\n",
    "1. The number query occurs somewhere in the middle of the list cards.\n",
    "2. query is the first element in cards.\n",
    "3. query is the last element in cards.\n",
    "4. The list cards contains just one element, which is query.\n",
    "5. The list cards does not contain number query.\n",
    "6. The list cards is empty.\n",
    "7. The list cards contains repeating numbers.\n",
    "8. The number query occurs at more than one position in cards."
   ]
  },
  {
   "cell_type": "code",
   "execution_count": 49,
   "metadata": {},
   "outputs": [
    {
     "name": "stdout",
     "output_type": "stream",
     "text": [
      "2\n",
      "2\n",
      "-1\n"
     ]
    }
   ],
   "source": [
    "def locate_cards(cards, query):\n",
    "    # create a variable position with the value 0\n",
    "    position = 0\n",
    "\n",
    "    # set up a loop for repetition\n",
    "    while True:\n",
    "        # check if the element at the current position matches the query\n",
    "        if cards[position] == query:\n",
    "\n",
    "            # Answer found! Return and exist\n",
    "            return position\n",
    "        #  If not, increment the position by one and continue to the next card.\n",
    "        position += 1\n",
    "\n",
    "        # check if we have reached the end of the array\n",
    "        if position >= len(cards):\n",
    "            # We've gone through all the cards without finding the answer\n",
    "            # so we will return -1 to indicate that the answer was not found.\n",
    "            return -1\n",
    "        # Testing our function on different cases\n",
    "def print_func(locate_cards):\n",
    "    print(locate_cards([2,4,7,9], 7))  \n",
    "    print(locate_cards(['apple', 'banana', 'cherry'], 'cherry'))\n",
    "    print(locate_cards([1,3,5,7,9], 6))\n",
    "\n",
    "print_func(locate_cards)"
   ]
  },
  {
   "cell_type": "code",
   "execution_count": 50,
   "metadata": {},
   "outputs": [],
   "source": [
    "def card_locate(cards, query):\n",
    "    position = 0\n",
    "\n",
    "    while position < len(cards):\n",
    "        # check if the query is equal to the selected card\n",
    "        if cards[position] == query:\n",
    "            return  position\n",
    "        position += 1\n",
    "        \n",
    "    return -1"
   ]
  },
  {
   "cell_type": "code",
   "execution_count": 51,
   "metadata": {},
   "outputs": [
    {
     "name": "stdout",
     "output_type": "stream",
     "text": [
      "2\n",
      "2\n",
      "-1\n"
     ]
    }
   ],
   "source": [
    "print(card_locate([2,4,7,9], 7))  \n",
    "print(card_locate(['apple', 'banana', 'cherry'], 'cherry'))\n",
    "print(card_locate([1,3,5,7,9], 6))"
   ]
  },
  {
   "cell_type": "markdown",
   "metadata": {},
   "source": [
    "### 8. Implement the solution and test it using example inputs. Fix bugs, if any."
   ]
  },
  {
   "cell_type": "markdown",
   "metadata": {},
   "source": [
    "Here's an implementation of binary search for solving our problem. We also print the relevant variables in each iteration of the `while` loop."
   ]
  },
  {
   "cell_type": "markdown",
   "metadata": {},
   "source": [
    "### Binary Search Implementation and Explanation\n",
    "\n",
    "Here is a Python implementation of binary search to locate the index of a target value (`query`) within a sorted list (`cards`).\n",
    "\n",
    "#### Function Definition\n",
    "\n",
    "```python\n",
    "def locate_ind_cards(cards, query):\n",
    "    lo, hi = 0, len(cards) - 1\n",
    "    \n",
    "    # Loop until the search interval is valid\n",
    "    while lo <= hi:\n",
    "        mid = (lo + hi) // 2  # Calculate the middle index\n",
    "        mid_number = cards[mid]  # Get the middle element\n",
    "\n",
    "        # Print debugging information (optional)\n",
    "        print(f\"lo: {lo}, hi: {hi}, mid: {mid}, middle_number: {mid_number}\")\n",
    "\n",
    "        # Check if the middle element is the target value\n",
    "        if mid_number == query:\n",
    "            return mid  # Found the query at index mid\n",
    "        elif mid_number < query:\n",
    "            lo = mid + 1  # Search in the right half\n",
    "        else:\n",
    "            hi = mid - 1  # Search in the left half\n",
    "    \n",
    "    return -1  # Query not found\n",
    "\n"
   ]
  },
  {
   "cell_type": "code",
   "execution_count": 17,
   "metadata": {},
   "outputs": [
    {
     "name": "stdout",
     "output_type": "stream",
     "text": [
      "lo: 0 , hi: 9 , mid: 4 , middle_number: 9\n",
      "lo: 0 , hi: 3 , mid: 1 , middle_number: 3\n",
      "lo: 2 , hi: 3 , mid: 2 , middle_number: 6\n",
      "2\n"
     ]
    }
   ],
   "source": [
    "def locate_ind_cards(cards, query):\n",
    "    lo, hi = 0, len(cards) - 1\n",
    "    while range(lo <= hi):\n",
    "        mid = (lo + hi) // 2\n",
    "        mid_number = cards[mid]\n",
    "\n",
    "        print(\"lo:\", lo, \", hi:\", hi, \", mid:\", mid, \", middle_number:\", mid_number)\n",
    "\n",
    "        if mid_number == query:\n",
    "            return mid  # Found the query at index mid\n",
    "        elif mid_number < query:\n",
    "            lo = mid + 1  # Search in the right half\n",
    "        else:\n",
    "            hi = mid - 1  # Search in the left half\n",
    "\n",
    "    return -1  # Query not found\n",
    "\n",
    "# Example usage:\n",
    "cards = [1, 3, 6, 7, 9, 11, 13, 15, 17, 19]\n",
    "print(locate_ind_cards(cards, 6))\n",
    "\n",
    "\n"
   ]
  }
 ],
 "metadata": {
  "kernelspec": {
   "display_name": "Python 3",
   "language": "python",
   "name": "python3"
  },
  "language_info": {
   "codemirror_mode": {
    "name": "ipython",
    "version": 3
   },
   "file_extension": ".py",
   "mimetype": "text/x-python",
   "name": "python",
   "nbconvert_exporter": "python",
   "pygments_lexer": "ipython3",
   "version": "3.12.2"
  }
 },
 "nbformat": 4,
 "nbformat_minor": 2
}
