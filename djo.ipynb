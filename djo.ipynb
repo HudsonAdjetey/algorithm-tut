{
 "cells": [
  {
   "cell_type": "markdown",
   "metadata": {},
   "source": [
    "## Big O Notation and Time Complexity\n",
    "#### Big O notation is a way of describing the performance or complexity of an algorithm. It quantifies the amount of time taken by an algorithm to run\n",
    "\n",
    "#### Pseudocode\n",
    "given_array = [1, 4, 3, 2, ..., 10]\n",
    "\n",
    "<p>def find_sum(given_array):</p>\n",
    "    <p>total = 0</p>\n",
    "    for each i in given_array:\n",
    "        total += i\n",
    "    return total\n",
    "\n",
    "## Questions\n",
    "#### What is the time complexity of the provided code?\n",
    "#### How much time does it take to run this function?\n",
    "####  Can you explain how we can determine the time complexity using pseudocode?\n",
    "#### How does the runtime of this function grow?"
   ]
  },
  {
   "cell_type": "code",
   "execution_count": 3,
   "metadata": {},
   "outputs": [],
   "source": [
    "given_array = [1, 4, 3, 2, ..., 10]\n",
    "\n",
    "def find_sum(given_array):\n",
    "    \"\"\"Find the sum of all elements in a given array.\n",
    "    \n",
    "    Args:\n",
    "        given_array (list): A list of integers.\n",
    "        \n",
    "    Returns:\n",
    "        int: The sum of all elements in the given array.\n",
    "    \"\"\"\n",
    "    total = 0\n",
    "    for i in given_array:\n",
    "        total += i\n",
    "    return total\n"
   ]
  },
  {
   "cell_type": "code",
   "execution_count": 5,
   "metadata": {},
   "outputs": [
    {
     "name": "stdout",
     "output_type": "stream",
     "text": [
      "38\n"
     ]
    }
   ],
   "source": [
    "array = [1,4,5,9,2,14,3]\n",
    "print_func = find_sum(array)\n",
    "print(print_func)"
   ]
  }
 ],
 "metadata": {
  "kernelspec": {
   "display_name": "Python 3",
   "language": "python",
   "name": "python3"
  },
  "language_info": {
   "codemirror_mode": {
    "name": "ipython",
    "version": 3
   },
   "file_extension": ".py",
   "mimetype": "text/x-python",
   "name": "python",
   "nbconvert_exporter": "python",
   "pygments_lexer": "ipython3",
   "version": "3.12.2"
  }
 },
 "nbformat": 4,
 "nbformat_minor": 2
}
