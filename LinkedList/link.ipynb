{
 "cells": [
  {
   "cell_type": "markdown",
   "metadata": {
    "vscode": {
     "languageId": "html"
    }
   },
   "source": [
    "## Linked List"
   ]
  },
  {
   "cell_type": "markdown",
   "metadata": {},
   "source": [
    "@HudsonAdjetey \n",
    "### Node Class"
   ]
  },
  {
   "cell_type": "code",
   "execution_count": 2,
   "metadata": {},
   "outputs": [],
   "source": [
    "class LinkedList:\n",
    "    def __init__(self, r= None):\n",
    "        self.root = r\n",
    "        self.size = 0\n",
    "\n",
    "    def add(self, d):\n",
    "        new_node = Node(d, self.root)\n",
    "        self.root = new_node\n",
    "        self.size +=1\n",
    "\n",
    "    def find(self, d):\n",
    "        this_node = self.root\n",
    "        while this_node is not None:\n",
    "            if this_node.data == d:\n",
    "                return d\n",
    "            else:\n",
    "                this_node = this_node.next_node\n",
    "        return None\n",
    "\n",
    "    def remove(self, d):\n",
    "        this_node = self.root\n",
    "        prev_node = None\n",
    "\n",
    "        while this_node is not None:\n",
    "            if this_node.data == d:\n",
    "                if prev_node is not None:\n",
    "                    prev_node.next_node = this_node.next_node\n",
    "                else:\n",
    "                    self.root = this_node.next_node\n",
    "                self.size -= 1\n",
    "                return True\n",
    "\n",
    "    def print_list(self):\n",
    "        this_node = self.root\n",
    "        while this_node is not None:\n",
    "            print(this_node, end=\"->\")\n",
    "            this_node = this_node.next_node\n",
    "        print('None')\n",
    "        "
   ]
  },
  {
   "cell_type": "markdown",
   "metadata": {},
   "source": [
    "### Linked List Test Code"
   ]
  },
  {
   "cell_type": "code",
   "execution_count": null,
   "metadata": {},
   "outputs": [],
   "source": [
    "my_list = LinkedList()\n",
    "my_list.add(5)\n",
    "my_list.add(8)\n",
    "my_list.add(12)\n",
    "my_list.print_list()\n",
    "\n",
    "print(\"size=\" + str(my_list.size))\n",
    "my_list.remove(8)\n",
    "print(\"size=\" + str(my_list.size))\n",
    "print(my_list.find(5))\n",
    "print(my_list.root)\n"
   ]
  },
  {
   "cell_type": "markdown",
   "metadata": {},
   "source": [
    "### Circular Linked List"
   ]
  },
  {
   "cell_type": "code",
   "execution_count": 12,
   "metadata": {},
   "outputs": [],
   "source": [
    "class CircularLinkedList:\n",
    "    def __init__(self, r= None):\n",
    "        self.root = r\n",
    "        self.size = 0\n",
    "\n",
    "    def add (self ,d):\n",
    "        if self.size == 0:\n",
    "            self.root = Node(d)\n",
    "            self.root.next_node = self.root\n",
    "        else:\n",
    "            new_node = Node(d, self.root.next_node)\n",
    "            self.root.next_node = new_node\n",
    "        self.size +=1\n",
    "\n",
    "    def find(self, d):\n",
    "        this_node = self.root\n",
    "        while True:\n",
    "            if this_node.data == d:\n",
    "                return d\n",
    "            elif this_node.next_node == self.root:\n",
    "                return False\n",
    "    def remove(self, d):\n",
    "        this_node = self.root\n",
    "        prev_node = None\n",
    "\n",
    "        while True:\n",
    "            if this_node.data == d:\n",
    "                if prev_node is not None:\n",
    "                    prev_node.next_node = this_node.next_node\n",
    "                else:\n",
    "                    while this_node.next_node != self.root:\n",
    "                        this_node = this_node.next_node\n",
    "                    this_node.next_node = self.root.next_node\n",
    "                    self.root = self.root.next_node\n",
    "                self.size -=1\n",
    "\n",
    "                return True\n",
    "\n",
    "            elif this_node.next_node == self.root:\n",
    "                return False\n",
    "            prev_node = this_node\n",
    "            this_node = this_node.next_node\n",
    "\n",
    "    def print_list(self):     \n",
    "        this_node = self.root\n",
    "        while this_node is not None:\n",
    "            print(this_node, end=\"->\")\n",
    "            this_node = this_node.next_node   "
   ]
  },
  {
   "cell_type": "markdown",
   "metadata": {},
   "source": [
    "### Circular linked list Test code"
   ]
  },
  {
   "cell_type": "code",
   "execution_count": null,
   "metadata": {},
   "outputs": [],
   "source": [
    "cll = CircularLinkedList()\n",
    "for i in [5,7,4,3,8,9]:\n",
    "    cll.add(i)\n",
    "\n",
    "print(\"size= \" + str(cll.size))\n",
    "# print(cll.find(8))\n",
    "# print(cll.find(12))\n",
    "\n",
    "my_node = cll.root\n",
    "print(my_node , end=\"->\")\n",
    "for i  in range(8):\n",
    "    my_node = my_node.next_node\n",
    "    print(my_node, end=\"->\")"
   ]
  }
 ],
 "metadata": {
  "kernelspec": {
   "display_name": "Python 3",
   "language": "python",
   "name": "python3"
  },
  "language_info": {
   "codemirror_mode": {
    "name": "ipython",
    "version": 3
   },
   "file_extension": ".py",
   "mimetype": "text/x-python",
   "name": "python",
   "nbconvert_exporter": "python",
   "pygments_lexer": "ipython3",
   "version": "3.12.2"
  }
 },
 "nbformat": 4,
 "nbformat_minor": 2
}
