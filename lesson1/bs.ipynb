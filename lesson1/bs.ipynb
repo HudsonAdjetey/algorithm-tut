{
 "cells": [
  {
   "cell_type": "markdown",
   "metadata": {},
   "source": [
    "### Indexing"
   ]
  },
  {
   "cell_type": "code",
   "execution_count": null,
   "metadata": {},
   "outputs": [],
   "source": [
    "x = \"frog\"\n",
    "print(x[3])\n",
    "\n",
    "\n",
    "# List \n",
    "li = x = [\"pig\", \"cow\", \"horse\"]\n",
    "print(x[1])\n",
    "\n",
    "# tuple\n",
    "tu = (\"Kelvin\", \"Niklas\", \"Jenny\", \"Craig\")\n",
    "print(tu[0])"
   ]
  },
  {
   "cell_type": "markdown",
   "metadata": {},
   "source": [
    "### Slicing \n",
    "Slice out substrings, sub-list, sub-tuples using indexes\n",
    "\n",
    "```python\n",
    " [start: end+1: step]"
   ]
  },
  {
   "cell_type": "code",
   "execution_count": null,
   "metadata": {},
   "outputs": [],
   "source": [
    "x = \"computer\"\n",
    "print(x[1:4])\n",
    "print(x[1:6:2])\n",
    "print(x[3:])\n",
    "print(x[:5])\n",
    "print(x[-1])\n",
    "print(x[-3])\n",
    "print(x[:-2])"
   ]
  },
  {
   "cell_type": "markdown",
   "metadata": {},
   "source": [
    "### Adding / Concatenating \n",
    "combine 2 sequences of the same type by using + "
   ]
  },
  {
   "cell_type": "code",
   "execution_count": null,
   "metadata": {},
   "outputs": [],
   "source": [
    "x1 = \"horse\" + \"shoe\"\n",
    "print(x)\n",
    "\n",
    "# list\n",
    "y1 = ['pig', 'cow'] + ['horse']\n",
    "print(y1)\n",
    "\n",
    "# tuple\n",
    "z1 = ('Hudson', 'Kelvin', 'Jenny') + ('Craig',)\n",
    "print(z1)\n"
   ]
  }
 ],
 "metadata": {
  "kernelspec": {
   "display_name": "Python 3",
   "language": "python",
   "name": "python3"
  },
  "language_info": {
   "codemirror_mode": {
    "name": "ipython",
    "version": 3
   },
   "file_extension": ".py",
   "mimetype": "text/x-python",
   "name": "python",
   "nbconvert_exporter": "python",
   "pygments_lexer": "ipython3",
   "version": "3.12.2"
  }
 },
 "nbformat": 4,
 "nbformat_minor": 2
}
