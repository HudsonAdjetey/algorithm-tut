{
 "cells": [
  {
   "cell_type": "markdown",
   "metadata": {},
   "source": [
    "### Indexing"
   ]
  },
  {
   "cell_type": "code",
   "execution_count": null,
   "metadata": {},
   "outputs": [],
   "source": [
    "x = \"frog\"\n",
    "print(x[3])\n",
    "\n",
    "\n",
    "# List \n",
    "li = x = [\"pig\", \"cow\", \"horse\"]\n",
    "print(x[1])\n",
    "\n",
    "# tuple\n",
    "tu = (\"Kelvin\", \"Niklas\", \"Jenny\", \"Craig\")\n",
    "print(tu[0])"
   ]
  },
  {
   "cell_type": "markdown",
   "metadata": {},
   "source": [
    "### Slicing \n",
    "Slice out substrings, sub-list, sub-tuples using indexes\n",
    "\n",
    "```python\n",
    " [start: end+1: step]"
   ]
  },
  {
   "cell_type": "code",
   "execution_count": 5,
   "metadata": {},
   "outputs": [
    {
     "name": "stdout",
     "output_type": "stream",
     "text": [
      "omp\n",
      "opt\n",
      "puter\n",
      "compu\n",
      "r\n",
      "t\n",
      "comput\n"
     ]
    }
   ],
   "source": [
    "x = \"computer\"\n",
    "print(x[1:4])\n",
    "print(x[1:6:2])\n",
    "print(x[3:])\n",
    "print(x[:5])\n",
    "print(x[-1])\n",
    "print(x[-3])\n",
    "print(x[:-2])"
   ]
  }
 ],
 "metadata": {
  "kernelspec": {
   "display_name": "Python 3",
   "language": "python",
   "name": "python3"
  },
  "language_info": {
   "codemirror_mode": {
    "name": "ipython",
    "version": 3
   },
   "file_extension": ".py",
   "mimetype": "text/x-python",
   "name": "python",
   "nbconvert_exporter": "python",
   "pygments_lexer": "ipython3",
   "version": "3.12.2"
  }
 },
 "nbformat": 4,
 "nbformat_minor": 2
}
