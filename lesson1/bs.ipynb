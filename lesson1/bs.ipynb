{
 "cells": [
  {
   "cell_type": "markdown",
   "metadata": {},
   "source": [
    "### Indexing"
   ]
  },
  {
   "cell_type": "code",
   "execution_count": null,
   "metadata": {},
   "outputs": [],
   "source": [
    "x = \"frog\"\n",
    "print(x[3])\n",
    "\n",
    "\n",
    "# List \n",
    "li = x = [\"pig\", \"cow\", \"horse\"]\n",
    "print(x[1])\n",
    "\n",
    "# tuple\n",
    "tu = (\"Kelvin\", \"Niklas\", \"Jenny\", \"Craig\")\n",
    "print(tu[0])"
   ]
  },
  {
   "cell_type": "markdown",
   "metadata": {},
   "source": [
    "### Slicing \n",
    "Slice out substrings, sub-list, sub-tuples using indexes\n",
    "\n",
    "```python\n",
    " [start: end+1: step]"
   ]
  },
  {
   "cell_type": "code",
   "execution_count": null,
   "metadata": {},
   "outputs": [],
   "source": [
    "x = \"computer\"\n",
    "print(x[1:4])\n",
    "print(x[1:6:2])\n",
    "print(x[3:])\n",
    "print(x[:5])\n",
    "print(x[-1])\n",
    "print(x[-3])\n",
    "print(x[:-2])"
   ]
  },
  {
   "cell_type": "markdown",
   "metadata": {},
   "source": [
    "### Adding / Concatenating \n",
    "combine 2 sequences of the same type by using + "
   ]
  },
  {
   "cell_type": "code",
   "execution_count": null,
   "metadata": {},
   "outputs": [],
   "source": [
    "x1 = \"horse\" + \"shoe\"\n",
    "print(x)\n",
    "\n",
    "# list\n",
    "y1 = ['pig', 'cow'] + ['horse']\n",
    "print(y1)\n",
    "\n",
    "# tuple\n",
    "z1 = ('Hudson', 'Kelvin', 'Jenny') + ('Craig',)\n",
    "print(z1)\n"
   ]
  },
  {
   "cell_type": "markdown",
   "metadata": {},
   "source": [
    "### Multiplying \n",
    "Multiply a sequence using *"
   ]
  },
  {
   "cell_type": "code",
   "execution_count": null,
   "metadata": {},
   "outputs": [],
   "source": [
    "# string\n",
    "x2 = \"bug \" * 3\n",
    "print(x2)\n",
    "\n",
    "# list\n",
    "y2 = [8, 6] * 3\n",
    "print(y2)\n",
    "\n",
    "# Tuple\n",
    "z2 = (2, 4) * 3\n",
    "print(z2)"
   ]
  },
  {
   "cell_type": "markdown",
   "metadata": {},
   "source": [
    "### Checking Membership\n",
    "test whether an item is or not in a sequence"
   ]
  },
  {
   "cell_type": "code",
   "execution_count": null,
   "metadata": {},
   "outputs": [],
   "source": [
    "# String\n",
    "x3 = \"bug\"\n",
    "print(\"u\"in x3 )\n",
    "\n",
    "# list\n",
    "y3 = [\"pig\", \"cow\", \"horse\"]\n",
    "print(\"cow\" in y3)\n",
    "to_upper = lambda x: x.upper()\n",
    "list_upper = [to_upper(x) for x in y3 ]\n",
    "print([to_upper(x) for x in y3 ])\n",
    "\n",
    "# tuple\n",
    "z3 = ('Hudson', 'Kelvin', 'Jenny', 'Craig')\n",
    "print(\"Hudson\" in z3)"
   ]
  },
  {
   "cell_type": "markdown",
   "metadata": {},
   "source": [
    "### Iterating\n",
    "iterating through the items in a sequence"
   ]
  },
  {
   "cell_type": "code",
   "execution_count": null,
   "metadata": {},
   "outputs": [],
   "source": [
    "# item\n",
    "x4 = [7, 8, 4]\n",
    "for item in x4:\n",
    "    print(item)\n",
    "\n",
    "# index and item\n",
    "y4 = [7, 8, 3]\n",
    "for idx, item in enumerate(y4):\n",
    "    print(idx, item)"
   ]
  },
  {
   "cell_type": "markdown",
   "metadata": {},
   "source": [
    "### Number of items\n",
    "count the number of items in a sequence"
   ]
  },
  {
   "cell_type": "code",
   "execution_count": null,
   "metadata": {},
   "outputs": [],
   "source": [
    "x5 = \"bug\"\n",
    "print(len(x5))\n",
    "\n",
    "# List\n",
    "y5 = [\"pig\", \"cow\", \"house\" ]\n",
    "print(len(y5))\n",
    "\n",
    "# tuple\n",
    "z = (\"Hudson\", \"Kelvin\", \"Joseph\", \"Prince\", \"Hannah\")\n",
    "print(len(z))"
   ]
  },
  {
   "cell_type": "markdown",
   "metadata": {},
   "source": [
    "### Minimum\n",
    "Find the minimum item in a sequence lexicographically.\n",
    "Alpha or numeric types but cannot mix types"
   ]
  },
  {
   "cell_type": "code",
   "execution_count": null,
   "metadata": {},
   "outputs": [],
   "source": [
    "# String\n",
    "x = \"bug\"\n",
    "print(min(x))\n",
    "\n",
    "# List\n",
    "y = [\"pig\", \"cow\", \"house\" ]\n",
    "print(min(y))\n",
    "\n",
    "z = (\"Hudson\", \"Kelvin\", \"Joseph\", \"Prince\", \"Hannah\")\n",
    "print(min(z))"
   ]
  },
  {
   "cell_type": "markdown",
   "metadata": {},
   "source": [
    "### Maximum\n",
    "Find the maximum item in a sequence lexicographically.\n",
    "Alpha or numeric types but cannot mix types"
   ]
  },
  {
   "cell_type": "code",
   "execution_count": null,
   "metadata": {},
   "outputs": [],
   "source": [
    "# String\n",
    "x = \"bug\"\n",
    "print(max(x))\n",
    "\n",
    "# List\n",
    "y = [\"pig\", \"cow\", \"house\" ]\n",
    "print(max(y))\n",
    "\n",
    "z = (\"Hudson\", \"Kelvin\", \"Joseph\", \"Prince\", \"Hannah\")\n",
    "print(max(z))"
   ]
  },
  {
   "cell_type": "markdown",
   "metadata": {},
   "source": [
    "### Sum - <small> find the sum of items in a sequence </small>"
   ]
  },
  {
   "cell_type": "code",
   "execution_count": null,
   "metadata": {},
   "outputs": [],
   "source": [
    "from functools import reduce\n",
    "# String -> error\n",
    "# x = [5, 76, \"bug\"]\n",
    "# print(sum(x)) # generates an error\n",
    "\n",
    "# list\n",
    "yx = [2, 5, 6, 7,12]\n",
    "print(sum(yx))\n",
    "sum_value = reduce(lambda x,y: x + y, yx)\n",
    "print(sum_value)"
   ]
  },
  {
   "cell_type": "markdown",
   "metadata": {},
   "source": [
    "### Sorting \n",
    "returns a new list of items in sorted order. Does not change the original list."
   ]
  },
  {
   "cell_type": "code",
   "execution_count": null,
   "metadata": {},
   "outputs": [],
   "source": [
    "# string\n",
    "x = \"bug\"\n",
    "\n",
    "# list\n",
    "y = [\"pig\", \"cow\", \"horse\"]\n",
    "print(sorted(y))\n",
    "\n",
    "# tuple\n",
    "z = (\"Kelvin\", \"Niklas\", \"Jenny\", \"Craig\")\n",
    "print(sorted(z))\n",
    "\n",
    "print(sorted(z, key=lambda x: x[1]))"
   ]
  },
  {
   "cell_type": "markdown",
   "metadata": {},
   "source": [
    "### unpacking - Unpack the items of a sequence into n variables"
   ]
  },
  {
   "cell_type": "code",
   "execution_count": null,
   "metadata": {},
   "outputs": [],
   "source": [
    "x = ['Pig', 'cow', 'horse']\n",
    "a, b, c = x\n",
    "print((a, b, c,))"
   ]
  },
  {
   "cell_type": "markdown",
   "metadata": {},
   "source": [
    "### List\n",
    "#### sortable"
   ]
  },
  {
   "cell_type": "code",
   "execution_count": null,
   "metadata": {},
   "outputs": [],
   "source": [
    "x = list()\n",
    "\n",
    "y = [\"a\", 2, \"dog\"]\n",
    "tuple1 = (10, 20)\n",
    "z = list(tuple1)\n",
    "\n",
    "print(z)\n",
    "\n",
    "# List compression\n",
    "a = [m for m in range(8)]\n",
    "print(a)\n",
    "\n",
    "b = [i**2 for i in range(10) if i > 4]\n",
    "\n",
    "\n"
   ]
  },
  {
   "cell_type": "markdown",
   "metadata": {},
   "source": [
    "### Index (item)"
   ]
  },
  {
   "cell_type": "code",
   "execution_count": null,
   "metadata": {},
   "outputs": [],
   "source": [
    "# string\n",
    "x = \"hippo\"\n",
    "print(x.index('p'))\n",
    "\n",
    "# list\n",
    "y =  ['Pig', 'cow', 'horse']\n",
    "print(y.index(\"cow\"))\n",
    "\n",
    "# tuple\n",
    "z = (\"Kelvin\", \"Niklas\", \"Jenny\", \"Craig\")\n",
    "print(z.index(\"Niklas\"))"
   ]
  },
  {
   "cell_type": "markdown",
   "metadata": {},
   "source": [
    "### Constructors\n",
    "<p>Creating a new list </p>"
   ]
  },
  {
   "cell_type": "code",
   "execution_count": null,
   "metadata": {},
   "outputs": [],
   "source": [
    "x = list()\n",
    "y = ['a', 25, 'dog', 8.43]\n",
    "tuple1 = (10, 20)\n",
    "z = list(tuple1)\n",
    "\n",
    "# list compression\n",
    "a = [m for m in range(8)]\n",
    "print(a)\n",
    "mul = lambda x: x**2\n",
    "b = [mul(i) for i in range(10) if i>4]\n",
    "\n",
    "print(b)"
   ]
  },
  {
   "cell_type": "markdown",
   "metadata": {},
   "source": [
    "### Insert - Insert an item at a given index"
   ]
  },
  {
   "cell_type": "code",
   "execution_count": null,
   "metadata": {},
   "outputs": [],
   "source": [
    "x = [5, 3, 8, 6]\n",
    "x.insert(1, [\"change\", \"Container\"])\n",
    "print(x)"
   ]
  }
 ],
 "metadata": {
  "kernelspec": {
   "display_name": "Python 3",
   "language": "python",
   "name": "python3"
  },
  "language_info": {
   "codemirror_mode": {
    "name": "ipython",
    "version": 3
   },
   "file_extension": ".py",
   "mimetype": "text/x-python",
   "name": "python",
   "nbconvert_exporter": "python",
   "pygments_lexer": "ipython3",
   "version": "3.12.2"
  }
 },
 "nbformat": 4,
 "nbformat_minor": 2
}
