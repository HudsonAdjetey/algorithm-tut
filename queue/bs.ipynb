{
 "cells": [
  {
   "cell_type": "markdown",
   "metadata": {},
   "source": [
    "## Queues\n",
    "\n",
    "### FIFO - First-In First-Out ~ Enqueue on one end and dequeue from the other end\n",
    "### Enqueue\n",
    "- Add an item to the end of the line\n",
    "\n",
    "### Dequeue\n",
    "- Remove an item from the front of the line"
   ]
  },
  {
   "cell_type": "markdown",
   "metadata": {},
   "source": [
    "### Queue Using Python Deque\n",
    "* Queue is a FIFO data structure -- first-in, first-out\n",
    "- Dequeue is a double-ended queue, but we can use it for our queue\n",
    "- We use append() to enqueue an item, and popleft() to dequeue from an item"
   ]
  },
  {
   "cell_type": "code",
   "execution_count": 2,
   "metadata": {},
   "outputs": [
    {
     "name": "stdout",
     "output_type": "stream",
     "text": [
      "deque([5, 20, 89])\n",
      "5\n",
      "deque([20, 89])\n"
     ]
    }
   ],
   "source": [
    "from collections import deque\n",
    "\n",
    "my_queue = deque()\n",
    "my_queue.append(5)\n",
    "my_queue.append(20)\n",
    "my_queue.append(89)\n",
    "\n",
    "print(my_queue)\n",
    "print(my_queue.popleft())\n",
    "print(my_queue)\n"
   ]
  }
 ],
 "metadata": {
  "kernelspec": {
   "display_name": "Python 3",
   "language": "python",
   "name": "python3"
  },
  "language_info": {
   "codemirror_mode": {
    "name": "ipython",
    "version": 3
   },
   "file_extension": ".py",
   "mimetype": "text/x-python",
   "name": "python",
   "nbconvert_exporter": "python",
   "pygments_lexer": "ipython3",
   "version": "3.12.2"
  }
 },
 "nbformat": 4,
 "nbformat_minor": 2
}
